{
  "nbformat": 4,
  "nbformat_minor": 0,
  "metadata": {
    "colab": {
      "name": "Hugging-Face-Transformer-Examples.ipynb",
      "provenance": [],
      "authorship_tag": "ABX9TyMgzIk83pFoojWSXSGZlI8C"
    },
    "kernelspec": {
      "name": "python3",
      "display_name": "Python 3"
    },
    "language_info": {
      "name": "python"
    }
  },
  "cells": [
    {
      "cell_type": "code",
      "execution_count": null,
      "metadata": {
        "id": "7e_1OYUS14Jh"
      },
      "outputs": [],
      "source": [
        "!pip install transformers\n",
        "!pip install sentencepiece"
      ]
    },
    {
      "cell_type": "code",
      "source": [
        "from transformers import pipeline #Import the pipeline function."
      ],
      "metadata": {
        "id": "PeVhtuKf189j"
      },
      "execution_count": null,
      "outputs": []
    },
    {
      "cell_type": "code",
      "source": [
        "classifier = pipeline(\"sentiment-analysis\") #Create a sentiment analysis model"
      ],
      "metadata": {
        "id": "pVfKRVql2uIM"
      },
      "execution_count": null,
      "outputs": []
    },
    {
      "cell_type": "markdown",
      "source": [
        "By default, this pipeline selects a particular pretrained model that has been fine-tuned for sentiment analysis in English. "
      ],
      "metadata": {
        "id": "dlF3bw6k3jFX"
      }
    },
    {
      "cell_type": "code",
      "source": [
        "classifier(\"I've been waiting for a HuggingFace course my whole life.\") #Pass a single sentence to the pipeline."
      ],
      "metadata": {
        "id": "9dtzSAeg26v4"
      },
      "execution_count": null,
      "outputs": []
    },
    {
      "cell_type": "code",
      "source": [
        "classifier([\"I've been waiting for a HuggingFace course my whole life.\", \"I hate this so much!\"]) #Pass multiple sentences to the classifier."
      ],
      "metadata": {
        "id": "ackgRz9A3U4Z"
      },
      "execution_count": null,
      "outputs": []
    },
    {
      "cell_type": "markdown",
      "source": [
        "**Zero-shot classification:**\n",
        "\n",
        "This pipeline is called zero-shot because you don’t need to fine-tune the model on your data to use it. It can directly return probability scores for any list of labels you want!"
      ],
      "metadata": {
        "id": "zqN9iIFW4vFi"
      }
    },
    {
      "cell_type": "code",
      "source": [
        "classifier = pipeline(\"zero-shot-classification\")"
      ],
      "metadata": {
        "id": "unI2kOAw5JRb"
      },
      "execution_count": null,
      "outputs": []
    },
    {
      "cell_type": "code",
      "source": [
        "classifier(\"This is a course about the Transformers library\",candidate_labels=[\"education\", \"politics\", \"business\"])"
      ],
      "metadata": {
        "id": "EmlDlYVm5NU8"
      },
      "execution_count": null,
      "outputs": []
    },
    {
      "cell_type": "markdown",
      "source": [
        "**Using any model from the Hub in a pipeline**"
      ],
      "metadata": {
        "id": "VHXpB5nl7U9p"
      }
    },
    {
      "cell_type": "code",
      "source": [
        "generator = pipeline(\"text-generation\", model=\"distilgpt2\")\n",
        "generator(\n",
        "    \"In this course, we will teach you how to\", #The sequence you will be adding to.\n",
        "    max_length=30, #Controls the maximum length of the sequence.\n",
        "    num_return_sequences=2, #Controls how many sequences are generated.\n",
        ")"
      ],
      "metadata": {
        "id": "VfeLGJoT7Ybw"
      },
      "execution_count": null,
      "outputs": []
    },
    {
      "cell_type": "markdown",
      "source": [
        "**Mask filling**\n",
        "\n",
        "The idea of mask filling is to fill in the blanks of a given text."
      ],
      "metadata": {
        "id": "-bFJRCXt8hZJ"
      }
    },
    {
      "cell_type": "code",
      "source": [
        "from transformers import pipeline\n",
        "\n",
        "unmasker = pipeline(\"fill-mask\")\n",
        "unmasker(\"This course will teach you all about <mask> models.\", top_k=2) #The \"top_k\" argument controls how many possibilities you want to be displayed."
      ],
      "metadata": {
        "id": "g9mCMF7u7gUS"
      },
      "execution_count": null,
      "outputs": []
    },
    {
      "cell_type": "markdown",
      "source": [
        "**Named entity recognition**\n",
        "\n",
        "Named entity recognition (NER) is a task where teh model has to find which parts of the input text correspond to entities such as persons, locations, or organizations. "
      ],
      "metadata": {
        "id": "qnCV0gnD9Jyg"
      }
    },
    {
      "cell_type": "code",
      "source": [
        "from transformers import pipeline\n",
        "\n",
        "ner = pipeline(\"ner\", grouped_entities=True)"
      ],
      "metadata": {
        "id": "2BXecYKI8pYH"
      },
      "execution_count": null,
      "outputs": []
    },
    {
      "cell_type": "code",
      "source": [
        "ner(\"My name is Sylvain and I work at Hugging Face in Brooklyn.\")"
      ],
      "metadata": {
        "id": "9qylHfXX-RHI"
      },
      "execution_count": null,
      "outputs": []
    },
    {
      "cell_type": "markdown",
      "source": [
        "**Question Answering**\n",
        "\n",
        "The question-answering pipeline answers questions using information from a given context."
      ],
      "metadata": {
        "id": "FWuSh-jc-BGW"
      }
    },
    {
      "cell_type": "code",
      "source": [
        "question_answerer = pipeline(\"question-answering\")"
      ],
      "metadata": {
        "id": "s1LfoP1J9UXS"
      },
      "execution_count": null,
      "outputs": []
    },
    {
      "cell_type": "markdown",
      "source": [
        "**Summarization**\n",
        "\n",
        "Summarization is the task of reducing a text into a shorter text while keeping all (or most) of the important aspects referenced in the text."
      ],
      "metadata": {
        "id": "k8DfZviJ-kNw"
      }
    },
    {
      "cell_type": "code",
      "source": [
        "summarizer = pipeline(\"summarization\")"
      ],
      "metadata": {
        "id": "LP8h0vRH-uZC"
      },
      "execution_count": null,
      "outputs": []
    },
    {
      "cell_type": "code",
      "source": [
        "summarizer(\n",
        "    \"\"\"\n",
        "    America has changed dramatically during recent years. Not only has the number of \n",
        "    graduates in traditional engineering disciplines such as mechanical, civil, \n",
        "    electrical, chemical, and aeronautical engineering declined, but in most of \n",
        "    the premier American universities engineering curricula now concentrate on \n",
        "    and encourage largely the study of engineering science. As a result, there \n",
        "    are declining offerings in engineering subjects dealing with infrastructure, \n",
        "    the environment, and related issues, and greater concentration on high \n",
        "    technology subjects, largely supporting increasingly complex scientific \n",
        "    developments. While the latter is important, it should not be at the expense \n",
        "    of more traditional engineering.\n",
        "\n",
        "    Rapidly developing economies such as China and India, as well as other \n",
        "    industrial countries in Europe and Asia, continue to encourage and advance \n",
        "    the teaching of engineering. Both China and India, respectively, graduate \n",
        "    six and eight times as many traditional engineers as does the United States. \n",
        "    Other industrial countries at minimum maintain their output, while America \n",
        "    suffers an increasingly serious decline in the number of engineering graduates \n",
        "    and a lack of well-educated engineers.\n",
        "\"\"\"\n",
        ")"
      ],
      "metadata": {
        "id": "ImcfKe8x-yQP"
      },
      "execution_count": null,
      "outputs": []
    },
    {
      "cell_type": "markdown",
      "source": [
        "**Translation**"
      ],
      "metadata": {
        "id": "wSPnUcrY9jnn"
      }
    },
    {
      "cell_type": "code",
      "source": [
        "translator = pipeline(\"translation\", model=\"Helsinki-NLP/opus-mt-fr-en\")\n",
        "translator(\"Ce cours est produit par Hugging Face.\")"
      ],
      "metadata": {
        "id": "ysxcQXmF704G"
      },
      "execution_count": null,
      "outputs": []
    },
    {
      "cell_type": "code",
      "source": [
        ""
      ],
      "metadata": {
        "id": "vu7Wapq09rwU"
      },
      "execution_count": null,
      "outputs": []
    }
  ]
}